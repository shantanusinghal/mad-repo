{
 "cells": [
  {
   "cell_type": "code",
   "execution_count": 67,
   "metadata": {
    "collapsed": false
   },
   "outputs": [
    {
     "name": "stdout",
     "output_type": "stream",
     "text": [
      "High five! You successfuly sent some data to your account on plotly. View your plot in your browser at https://plot.ly/~samridhi/0 or inside your plot.ly account where it is named 'learning-curve'\n"
     ]
    },
    {
     "data": {
      "text/html": [
       "<iframe id=\"igraph\" scrolling=\"no\" style=\"border:none;\" seamless=\"seamless\" src=\"https://plot.ly/~samridhi/0.embed\" height=\"525px\" width=\"100%\"></iframe>"
      ],
      "text/plain": [
       "<plotly.tools.PlotlyDisplay object>"
      ]
     },
     "execution_count": 67,
     "metadata": {},
     "output_type": "execute_result"
    }
   ],
   "source": [
    "import plotly \n",
    "# plug-in credentials here\n",
    "plotly.tools.set_credentials_file(username='', api_key='')\n",
    "\n",
    "x = [25,50,100]\n",
    "x_rev = x[::-1]\n",
    "y_tan = [0.5655,0.6845,0.8334]\n",
    "y_nb = [0.6072,0.7798,0.8571]\n",
    "y_tan_upper = [0.42857142857142855, 0.5714285714285714, 0.8333333333333334]\n",
    "y_tan_lower = [0.6904761904761905, 0.7380952380952381, 0.8333333333333334]\n",
    "y_tan_lower = y_tan_lower[::-1]\n",
    "y_nb_upper = [0.42857142857142855, 0.6428571428571429, 0.8571428571428571]\n",
    "y_nb_lower = [0.7380952380952381, 0.8571428571428571, 0.8571428571428571]\n",
    "y_nb_lower = y_nb_lower[::-1]\n",
    "\n",
    "import plotly.plotly as py\n",
    "import plotly.graph_objs as go\n",
    "from plotly.graph_objs import *\n",
    "\n",
    "traceTAN = go.Scatter(\n",
    "    x = x,\n",
    "    y = y_tan,\n",
    "    line=Line(color='rgb(0,176,246)'),\n",
    "    name = 'TAN',\n",
    "    connectgaps=True,\n",
    "    mode='lines+text+markers',\n",
    "    text=y_tan,\n",
    "    textposition='bottom'\n",
    ")\n",
    "traceNB = go.Scatter(\n",
    "    x = x,\n",
    "    y = y_nb,\n",
    "    line=Line(color='rgb(231,107,243)'),\n",
    "    name = 'Naive Bayes',\n",
    "    connectgaps=True,\n",
    "    mode='lines+text+markers',\n",
    "    text=y_nb,\n",
    "    textposition='top'\n",
    ")\n",
    "\n",
    "traceTANRegion = Scatter(\n",
    "    x = x + x_rev,\n",
    "    y = y_tan_upper + y_tan_lower,\n",
    "    fillcolor='rgba(0,176,246,0.2)',\n",
    "    line=Line(color='transparent'),\n",
    "    fill='toself',\n",
    "    name='TAN',\n",
    "    showlegend=False\n",
    ")\n",
    "traceNBRegion = Scatter(\n",
    "    x = x + x_rev,\n",
    "    y = y_nb_upper + y_nb_lower,\n",
    "    fillcolor='rgba(231,107,243,0.2)',\n",
    "    line=Line(color='transparent'),\n",
    "    fill='toself',\n",
    "    name='Naive Bayes',\n",
    "    showlegend=False\n",
    ")\n",
    "\n",
    "data = [traceTAN, traceNB]\n",
    "\n",
    "layout = Layout(\n",
    "    title = 'Learning Curve',\n",
    "    xaxis=XAxis(\n",
    "        title = 'Training Data Size', \n",
    "        range=[20,105],\n",
    "        zeroline=False\n",
    "    ),\n",
    "    yaxis=YAxis(\n",
    "        title = 'Accuracy Score', \n",
    "        range=[0,1],\n",
    "        zeroline=False\n",
    "    )\n",
    ")\n",
    "\n",
    "fig = dict(data=data, layout=layout)\n",
    "py.iplot(fig, filename='learning-curve')\n"
   ]
  },
  {
   "cell_type": "code",
   "execution_count": null,
   "metadata": {
    "collapsed": true
   },
   "outputs": [],
   "source": []
  }
 ],
 "metadata": {
  "anaconda-cloud": {},
  "kernelspec": {
   "display_name": "Python [default]",
   "language": "python",
   "name": "python3"
  },
  "language_info": {
   "codemirror_mode": {
    "name": "ipython",
    "version": 3
   },
   "file_extension": ".py",
   "mimetype": "text/x-python",
   "name": "python",
   "nbconvert_exporter": "python",
   "pygments_lexer": "ipython3",
   "version": "3.5.2"
  }
 },
 "nbformat": 4,
 "nbformat_minor": 1
}
