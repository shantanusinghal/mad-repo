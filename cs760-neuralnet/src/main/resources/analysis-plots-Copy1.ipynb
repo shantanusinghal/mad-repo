{
 "cells": [
  {
   "cell_type": "code",
   "execution_count": 6,
   "metadata": {
    "collapsed": false
   },
   "outputs": [
    {
     "data": {
      "text/html": [
       "<iframe id=\"igraph\" scrolling=\"no\" style=\"border:none;\" seamless=\"seamless\" src=\"https://plot.ly/~shantanusinghal/10.embed\" height=\"525px\" width=\"100%\"></iframe>"
      ],
      "text/plain": [
       "<plotly.tools.PlotlyDisplay object>"
      ]
     },
     "execution_count": 6,
     "metadata": {},
     "output_type": "execute_result"
    }
   ],
   "source": [
    "import plotly \n",
    "# plug-in credentials here\n",
    "plotly.tools.set_credentials_file(username='shantanusinghal', api_key='0rwK9oV75R7xcywsVstz')\n",
    "\n",
    "import plotly.plotly as py\n",
    "import plotly.graph_objs as go\n",
    "from plotly.graph_objs import *\n",
    "\n",
    "epochs = [ 25, 50, 75, 100 ]\n",
    "accuracy =  [ 0.7596153846153846, 0.7740384615384616, 0.6923076923076923, 0.6826923076923077 ]\n",
    "\n",
    "# Create a trace\n",
    "trace = go.Scatter(\n",
    "    x = epochs,\n",
    "    y = accuracy\n",
    ")\n",
    "\n",
    "data = [trace]\n",
    "\n",
    "layout = Layout(\n",
    "    title = 'Performance Analysis across Epochs',\n",
    "    xaxis=XAxis(\n",
    "        title = 'Number of Epochs', \n",
    "        range=[0,105]\n",
    "    ),\n",
    "    yaxis=YAxis(\n",
    "        title = 'Accuracy', \n",
    "        range=[0,1]\n",
    "    )\n",
    ")\n",
    "\n",
    "fig = dict(data=data, layout=layout)\n",
    "py.iplot(fig, filename='accuracy-epoch')"
   ]
  },
  {
   "cell_type": "code",
   "execution_count": null,
   "metadata": {
    "collapsed": true
   },
   "outputs": [],
   "source": []
  },
  {
   "cell_type": "code",
   "execution_count": null,
   "metadata": {
    "collapsed": true
   },
   "outputs": [],
   "source": []
  }
 ],
 "metadata": {
  "anaconda-cloud": {},
  "kernelspec": {
   "display_name": "Python [default]",
   "language": "python",
   "name": "python3"
  },
  "language_info": {
   "codemirror_mode": {
    "name": "ipython",
    "version": 3
   },
   "file_extension": ".py",
   "mimetype": "text/x-python",
   "name": "python",
   "nbconvert_exporter": "python",
   "pygments_lexer": "ipython3",
   "version": "3.5.2"
  }
 },
 "nbformat": 4,
 "nbformat_minor": 1
}
